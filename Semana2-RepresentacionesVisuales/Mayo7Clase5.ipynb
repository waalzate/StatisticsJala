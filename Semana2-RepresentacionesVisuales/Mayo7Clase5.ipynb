{
 "cells": [
  {
   "cell_type": "code",
   "execution_count": 67,
   "id": "a18cc983",
   "metadata": {},
   "outputs": [],
   "source": [
    "import pandas as pd\n",
    "import numpy as np\n",
    "import matplotlib.pyplot as plt\n",
    "pd.set_option('display.precision', 2) \n",
    "# Configuramos Pandas para mostrar solo dos decimales en los valores numéricos\n"
   ]
  },
  {
   "cell_type": "code",
   "execution_count": 2,
   "id": "a4c23e9c",
   "metadata": {},
   "outputs": [],
   "source": [
    "#Ejemplo:\n",
    "# Datos de ejemplo\n",
    "x = [77, 18, 63, 84, ,34 59, 59, 54, 56, 36, 26, 34, 44,\n",
    "        41, 58, 58, 53, 51, 62, 43, 52, 53, 63, 62, 65, 51, 62, 60, 68, 45, 65, 83, 71, 63, 58, 61]\n",
    "    "
   ]
  },
  {
   "cell_type": "code",
   "execution_count": 16,
   "id": "1258ef70",
   "metadata": {},
   "outputs": [
    {
     "name": "stdout",
     "output_type": "stream",
     "text": [
      "9.428571428571429\n"
     ]
    }
   ],
   "source": [
    "# definimos el número de clases:\n",
    "num_clases = 7\n",
    "\n",
    "# hallamos el valor mínimo:\n",
    "val_min = min(x)\n",
    "\n",
    "# hallamos el valor máximo:\n",
    "val_max = max(x)\n",
    "\n",
    "# hallamos el ancho (amplitud) de la clase\n",
    "A = (val_max - val_min) / num_clases\n",
    "print(A)\n",
    "# Dado que A=9.42, podemos tomar el ancho de clases igual a 10 y considerar el primer intervalo de\n",
    "#clase partiendo de 16 con el fin de que el último intervalo tenga como límite superior a 86.\n",
    "\n",
    "A= 10"
   ]
  },
  {
   "cell_type": "code",
   "execution_count": 24,
   "id": "b3dff04b",
   "metadata": {},
   "outputs": [],
   "source": [
    "# Inciamos la primera clase en 16.\n",
    "# Definir los límites\n",
    "limites = [16+ A*i for i in range(num_clases+1)]   #limites = [16,26,36,...]"
   ]
  },
  {
   "cell_type": "code",
   "execution_count": 37,
   "id": "54c358c3",
   "metadata": {},
   "outputs": [],
   "source": [
    "df = pd.cut(x,bins =limites, include_lowest =True, right = False  )\n",
    "\n",
    "df = pd.value_counts(df,sort = False).reset_index()"
   ]
  },
  {
   "cell_type": "code",
   "execution_count": 38,
   "id": "7506fd99",
   "metadata": {},
   "outputs": [],
   "source": [
    "df.columns = ['Intervalo','Frecuencia']"
   ]
  },
  {
   "cell_type": "code",
   "execution_count": 39,
   "id": "f2ac8a74",
   "metadata": {},
   "outputs": [
    {
     "data": {
      "text/html": [
       "<div>\n",
       "<style scoped>\n",
       "    .dataframe tbody tr th:only-of-type {\n",
       "        vertical-align: middle;\n",
       "    }\n",
       "\n",
       "    .dataframe tbody tr th {\n",
       "        vertical-align: top;\n",
       "    }\n",
       "\n",
       "    .dataframe thead th {\n",
       "        text-align: right;\n",
       "    }\n",
       "</style>\n",
       "<table border=\"1\" class=\"dataframe\">\n",
       "  <thead>\n",
       "    <tr style=\"text-align: right;\">\n",
       "      <th></th>\n",
       "      <th>Intervalo</th>\n",
       "      <th>Frecuencia</th>\n",
       "    </tr>\n",
       "  </thead>\n",
       "  <tbody>\n",
       "    <tr>\n",
       "      <th>0</th>\n",
       "      <td>[16, 26)</td>\n",
       "      <td>1</td>\n",
       "    </tr>\n",
       "    <tr>\n",
       "      <th>1</th>\n",
       "      <td>[26, 36)</td>\n",
       "      <td>3</td>\n",
       "    </tr>\n",
       "    <tr>\n",
       "      <th>2</th>\n",
       "      <td>[36, 46)</td>\n",
       "      <td>5</td>\n",
       "    </tr>\n",
       "    <tr>\n",
       "      <th>3</th>\n",
       "      <td>[46, 56)</td>\n",
       "      <td>6</td>\n",
       "    </tr>\n",
       "    <tr>\n",
       "      <th>4</th>\n",
       "      <td>[56, 66)</td>\n",
       "      <td>16</td>\n",
       "    </tr>\n",
       "    <tr>\n",
       "      <th>5</th>\n",
       "      <td>[66, 76)</td>\n",
       "      <td>2</td>\n",
       "    </tr>\n",
       "    <tr>\n",
       "      <th>6</th>\n",
       "      <td>[76, 86)</td>\n",
       "      <td>3</td>\n",
       "    </tr>\n",
       "  </tbody>\n",
       "</table>\n",
       "</div>"
      ],
      "text/plain": [
       "  Intervalo  Frecuencia\n",
       "0  [16, 26)           1\n",
       "1  [26, 36)           3\n",
       "2  [36, 46)           5\n",
       "3  [46, 56)           6\n",
       "4  [56, 66)          16\n",
       "5  [66, 76)           2\n",
       "6  [76, 86)           3"
      ]
     },
     "execution_count": 39,
     "metadata": {},
     "output_type": "execute_result"
    }
   ],
   "source": [
    "df"
   ]
  },
  {
   "cell_type": "code",
   "execution_count": 40,
   "id": "05774852",
   "metadata": {},
   "outputs": [],
   "source": [
    "df['Frecuencia acumulada'] = df['Frecuencia'].cumsum()"
   ]
  },
  {
   "cell_type": "code",
   "execution_count": 41,
   "id": "d911c31f",
   "metadata": {},
   "outputs": [
    {
     "data": {
      "text/html": [
       "<div>\n",
       "<style scoped>\n",
       "    .dataframe tbody tr th:only-of-type {\n",
       "        vertical-align: middle;\n",
       "    }\n",
       "\n",
       "    .dataframe tbody tr th {\n",
       "        vertical-align: top;\n",
       "    }\n",
       "\n",
       "    .dataframe thead th {\n",
       "        text-align: right;\n",
       "    }\n",
       "</style>\n",
       "<table border=\"1\" class=\"dataframe\">\n",
       "  <thead>\n",
       "    <tr style=\"text-align: right;\">\n",
       "      <th></th>\n",
       "      <th>Intervalo</th>\n",
       "      <th>Frecuencia</th>\n",
       "      <th>Frecuencia acumulada</th>\n",
       "    </tr>\n",
       "  </thead>\n",
       "  <tbody>\n",
       "    <tr>\n",
       "      <th>0</th>\n",
       "      <td>[16, 26)</td>\n",
       "      <td>1</td>\n",
       "      <td>1</td>\n",
       "    </tr>\n",
       "    <tr>\n",
       "      <th>1</th>\n",
       "      <td>[26, 36)</td>\n",
       "      <td>3</td>\n",
       "      <td>4</td>\n",
       "    </tr>\n",
       "    <tr>\n",
       "      <th>2</th>\n",
       "      <td>[36, 46)</td>\n",
       "      <td>5</td>\n",
       "      <td>9</td>\n",
       "    </tr>\n",
       "    <tr>\n",
       "      <th>3</th>\n",
       "      <td>[46, 56)</td>\n",
       "      <td>6</td>\n",
       "      <td>15</td>\n",
       "    </tr>\n",
       "    <tr>\n",
       "      <th>4</th>\n",
       "      <td>[56, 66)</td>\n",
       "      <td>16</td>\n",
       "      <td>31</td>\n",
       "    </tr>\n",
       "    <tr>\n",
       "      <th>5</th>\n",
       "      <td>[66, 76)</td>\n",
       "      <td>2</td>\n",
       "      <td>33</td>\n",
       "    </tr>\n",
       "    <tr>\n",
       "      <th>6</th>\n",
       "      <td>[76, 86)</td>\n",
       "      <td>3</td>\n",
       "      <td>36</td>\n",
       "    </tr>\n",
       "  </tbody>\n",
       "</table>\n",
       "</div>"
      ],
      "text/plain": [
       "  Intervalo  Frecuencia  Frecuencia acumulada\n",
       "0  [16, 26)           1                     1\n",
       "1  [26, 36)           3                     4\n",
       "2  [36, 46)           5                     9\n",
       "3  [46, 56)           6                    15\n",
       "4  [56, 66)          16                    31\n",
       "5  [66, 76)           2                    33\n",
       "6  [76, 86)           3                    36"
      ]
     },
     "execution_count": 41,
     "metadata": {},
     "output_type": "execute_result"
    }
   ],
   "source": [
    "df"
   ]
  },
  {
   "cell_type": "code",
   "execution_count": 42,
   "id": "dfe270cf",
   "metadata": {},
   "outputs": [
    {
     "data": {
      "text/plain": [
       "36"
      ]
     },
     "execution_count": 42,
     "metadata": {},
     "output_type": "execute_result"
    }
   ],
   "source": [
    "len(x)"
   ]
  },
  {
   "cell_type": "code",
   "execution_count": 43,
   "id": "75ff3bc8",
   "metadata": {},
   "outputs": [],
   "source": [
    "df['Frecuencia relativa'] = df['Frecuencia'] / len(x)"
   ]
  },
  {
   "cell_type": "code",
   "execution_count": 44,
   "id": "350ebe2c",
   "metadata": {},
   "outputs": [
    {
     "data": {
      "text/html": [
       "<div>\n",
       "<style scoped>\n",
       "    .dataframe tbody tr th:only-of-type {\n",
       "        vertical-align: middle;\n",
       "    }\n",
       "\n",
       "    .dataframe tbody tr th {\n",
       "        vertical-align: top;\n",
       "    }\n",
       "\n",
       "    .dataframe thead th {\n",
       "        text-align: right;\n",
       "    }\n",
       "</style>\n",
       "<table border=\"1\" class=\"dataframe\">\n",
       "  <thead>\n",
       "    <tr style=\"text-align: right;\">\n",
       "      <th></th>\n",
       "      <th>Intervalo</th>\n",
       "      <th>Frecuencia</th>\n",
       "      <th>Frecuencia acumulada</th>\n",
       "      <th>Frecuencia relativa</th>\n",
       "    </tr>\n",
       "  </thead>\n",
       "  <tbody>\n",
       "    <tr>\n",
       "      <th>0</th>\n",
       "      <td>[16, 26)</td>\n",
       "      <td>1</td>\n",
       "      <td>1</td>\n",
       "      <td>0.027778</td>\n",
       "    </tr>\n",
       "    <tr>\n",
       "      <th>1</th>\n",
       "      <td>[26, 36)</td>\n",
       "      <td>3</td>\n",
       "      <td>4</td>\n",
       "      <td>0.083333</td>\n",
       "    </tr>\n",
       "    <tr>\n",
       "      <th>2</th>\n",
       "      <td>[36, 46)</td>\n",
       "      <td>5</td>\n",
       "      <td>9</td>\n",
       "      <td>0.138889</td>\n",
       "    </tr>\n",
       "    <tr>\n",
       "      <th>3</th>\n",
       "      <td>[46, 56)</td>\n",
       "      <td>6</td>\n",
       "      <td>15</td>\n",
       "      <td>0.166667</td>\n",
       "    </tr>\n",
       "    <tr>\n",
       "      <th>4</th>\n",
       "      <td>[56, 66)</td>\n",
       "      <td>16</td>\n",
       "      <td>31</td>\n",
       "      <td>0.444444</td>\n",
       "    </tr>\n",
       "    <tr>\n",
       "      <th>5</th>\n",
       "      <td>[66, 76)</td>\n",
       "      <td>2</td>\n",
       "      <td>33</td>\n",
       "      <td>0.055556</td>\n",
       "    </tr>\n",
       "    <tr>\n",
       "      <th>6</th>\n",
       "      <td>[76, 86)</td>\n",
       "      <td>3</td>\n",
       "      <td>36</td>\n",
       "      <td>0.083333</td>\n",
       "    </tr>\n",
       "  </tbody>\n",
       "</table>\n",
       "</div>"
      ],
      "text/plain": [
       "  Intervalo  Frecuencia  Frecuencia acumulada  Frecuencia relativa\n",
       "0  [16, 26)           1                     1             0.027778\n",
       "1  [26, 36)           3                     4             0.083333\n",
       "2  [36, 46)           5                     9             0.138889\n",
       "3  [46, 56)           6                    15             0.166667\n",
       "4  [56, 66)          16                    31             0.444444\n",
       "5  [66, 76)           2                    33             0.055556\n",
       "6  [76, 86)           3                    36             0.083333"
      ]
     },
     "execution_count": 44,
     "metadata": {},
     "output_type": "execute_result"
    }
   ],
   "source": [
    "df"
   ]
  },
  {
   "cell_type": "markdown",
   "id": "4b8caef5",
   "metadata": {},
   "source": [
    "# Ejemplo: \n",
    "Considere la base de datos de los indices de peso\n",
    "\n",
    "https://www.kaggle.com/datasets/fatemehmehrparvar/obesity-levels\n",
    "\n",
    "y considere la columna `Weight`.  \n",
    "\n",
    "Calcula una tabla de frecuencias para la variable 'Weight' \n",
    "tomando como límite inferior del primer intervalo el primer cuartil Q1 y como limite superior del último intervalo el tercer cuartil  Q3 el conjunto de datos proporcionado. Considere un número de clases apropiado escogiendo un valor entre 5 y 20.\n",
    "\n",
    "Discute los resultados y preséntalos en un gráfico.\n"
   ]
  },
  {
   "cell_type": "code",
   "execution_count": 45,
   "id": "2718f990",
   "metadata": {},
   "outputs": [],
   "source": [
    "data = pd.read_csv('data.csv')"
   ]
  },
  {
   "cell_type": "code",
   "execution_count": 56,
   "id": "396317c1",
   "metadata": {
    "scrolled": true
   },
   "outputs": [],
   "source": [
    "# Calculemos el primer y el tercer cuartil\n",
    "\n",
    "q1 = np.quantile(data['Weight'],0.25)\n",
    "q3 = np.quantile(data['Weight'],0.75)\n"
   ]
  },
  {
   "cell_type": "code",
   "execution_count": 57,
   "id": "9a80ebea",
   "metadata": {},
   "outputs": [],
   "source": [
    "# datos filtrados\n",
    "\n",
    "filtered_data = data[(data['Weight']>= q1) &  (data['Weight']<= q3)]\n"
   ]
  },
  {
   "cell_type": "code",
   "execution_count": 74,
   "id": "288e3e9e",
   "metadata": {},
   "outputs": [],
   "source": [
    "# definamos el número de clases:\n",
    "num_clases = 10\n",
    "\n",
    "rango = q3 - q1"
   ]
  },
  {
   "cell_type": "code",
   "execution_count": 75,
   "id": "3d452f07",
   "metadata": {},
   "outputs": [],
   "source": [
    "A = rango / num_clases"
   ]
  },
  {
   "cell_type": "code",
   "execution_count": 76,
   "id": "3c725709",
   "metadata": {},
   "outputs": [
    {
     "data": {
      "text/plain": [
       "4.1957339000000005"
      ]
     },
     "execution_count": 76,
     "metadata": {},
     "output_type": "execute_result"
    }
   ],
   "source": [
    "A"
   ]
  },
  {
   "cell_type": "code",
   "execution_count": 77,
   "id": "9d3c46e5",
   "metadata": {},
   "outputs": [],
   "source": [
    "limites = [q1 +A * i for i in range(num_clases+1)]\n",
    "\n",
    "df = pd.cut(filtered_data['Weight'], bins = limites,include_lowest = True, right = False )\n",
    "df= pd.value_counts(df,sort=False).reset_index()"
   ]
  },
  {
   "cell_type": "code",
   "execution_count": 81,
   "id": "feec756a",
   "metadata": {},
   "outputs": [
    {
     "name": "stdout",
     "output_type": "stream",
     "text": [
      "            Intervalo  Frecuencia Marca de clase  Frecuencia acumulada  \\\n",
      "0    [65.473, 69.669)          81          67.57                    81   \n",
      "1    [69.669, 73.865)          88          71.77                   169   \n",
      "2    [73.865, 78.061)         140          75.96                   309   \n",
      "3    [78.061, 82.256)         187          80.16                   496   \n",
      "4    [82.256, 86.452)         142          84.35                   638   \n",
      "5    [86.452, 90.648)         107          88.55                   745   \n",
      "6    [90.648, 94.843)          40          92.75                   785   \n",
      "7    [94.843, 99.039)          64          96.94                   849   \n",
      "8   [99.039, 103.235)          83         101.14                   932   \n",
      "9  [103.235, 107.431)         123         105.33                  1055   \n",
      "\n",
      "   Frecuencia relativa  Frecuencia relativa acumulada  \n",
      "0                 0.04                           0.04  \n",
      "1                 0.04                           0.08  \n",
      "2                 0.07                           0.15  \n",
      "3                 0.09                           0.23  \n",
      "4                 0.07                           0.30  \n",
      "5                 0.05                           0.35  \n",
      "6                 0.02                           0.37  \n",
      "7                 0.03                           0.40  \n",
      "8                 0.04                           0.44  \n",
      "9                 0.06                           0.50  \n"
     ]
    }
   ],
   "source": [
    "df.columns = ['Intervalo', 'Frecuencia']\n",
    "\n",
    "\n",
    "#Calculamos la marca de clase:\n",
    "df['Marca de clase'] = df['Intervalo'].apply(lambda x: (x.left + x.right) / 2)\n",
    "\n",
    "# Calcular la frecuencia acumulada\n",
    "df['Frecuencia acumulada'] = df['Frecuencia'].cumsum()\n",
    "\n",
    "\n",
    "\n",
    "# Calcular la frecuencia relativa\n",
    "df['Frecuencia relativa'] = df['Frecuencia'] / len(data)\n",
    "\n",
    "# Calcular la frecuencia relativa acumulada\n",
    "df['Frecuencia relativa acumulada'] = df['Frecuencia relativa'].cumsum()\n",
    "\n",
    "# Mostrar la tabla de frecuencias\n",
    "print(df)\n"
   ]
  },
  {
   "cell_type": "code",
   "execution_count": 85,
   "id": "106e779d",
   "metadata": {},
   "outputs": [
    {
     "data": {
      "text/html": [
       "<div>\n",
       "<style scoped>\n",
       "    .dataframe tbody tr th:only-of-type {\n",
       "        vertical-align: middle;\n",
       "    }\n",
       "\n",
       "    .dataframe tbody tr th {\n",
       "        vertical-align: top;\n",
       "    }\n",
       "\n",
       "    .dataframe thead th {\n",
       "        text-align: right;\n",
       "    }\n",
       "</style>\n",
       "<table border=\"1\" class=\"dataframe\">\n",
       "  <thead>\n",
       "    <tr style=\"text-align: right;\">\n",
       "      <th></th>\n",
       "      <th>Intervalo</th>\n",
       "      <th>Frecuencia</th>\n",
       "      <th>Marca de clase</th>\n",
       "      <th>Frecuencia acumulada</th>\n",
       "      <th>Frecuencia relativa</th>\n",
       "      <th>Frecuencia relativa acumulada</th>\n",
       "    </tr>\n",
       "  </thead>\n",
       "  <tbody>\n",
       "    <tr>\n",
       "      <th>0</th>\n",
       "      <td>[65.473, 69.669)</td>\n",
       "      <td>81</td>\n",
       "      <td>67.57</td>\n",
       "      <td>81</td>\n",
       "      <td>0.04</td>\n",
       "      <td>0.04</td>\n",
       "    </tr>\n",
       "    <tr>\n",
       "      <th>1</th>\n",
       "      <td>[69.669, 73.865)</td>\n",
       "      <td>88</td>\n",
       "      <td>71.77</td>\n",
       "      <td>169</td>\n",
       "      <td>0.04</td>\n",
       "      <td>0.08</td>\n",
       "    </tr>\n",
       "    <tr>\n",
       "      <th>2</th>\n",
       "      <td>[73.865, 78.061)</td>\n",
       "      <td>140</td>\n",
       "      <td>75.96</td>\n",
       "      <td>309</td>\n",
       "      <td>0.07</td>\n",
       "      <td>0.15</td>\n",
       "    </tr>\n",
       "    <tr>\n",
       "      <th>3</th>\n",
       "      <td>[78.061, 82.256)</td>\n",
       "      <td>187</td>\n",
       "      <td>80.16</td>\n",
       "      <td>496</td>\n",
       "      <td>0.09</td>\n",
       "      <td>0.23</td>\n",
       "    </tr>\n",
       "    <tr>\n",
       "      <th>4</th>\n",
       "      <td>[82.256, 86.452)</td>\n",
       "      <td>142</td>\n",
       "      <td>84.35</td>\n",
       "      <td>638</td>\n",
       "      <td>0.07</td>\n",
       "      <td>0.30</td>\n",
       "    </tr>\n",
       "    <tr>\n",
       "      <th>5</th>\n",
       "      <td>[86.452, 90.648)</td>\n",
       "      <td>107</td>\n",
       "      <td>88.55</td>\n",
       "      <td>745</td>\n",
       "      <td>0.05</td>\n",
       "      <td>0.35</td>\n",
       "    </tr>\n",
       "    <tr>\n",
       "      <th>6</th>\n",
       "      <td>[90.648, 94.843)</td>\n",
       "      <td>40</td>\n",
       "      <td>92.75</td>\n",
       "      <td>785</td>\n",
       "      <td>0.02</td>\n",
       "      <td>0.37</td>\n",
       "    </tr>\n",
       "    <tr>\n",
       "      <th>7</th>\n",
       "      <td>[94.843, 99.039)</td>\n",
       "      <td>64</td>\n",
       "      <td>96.94</td>\n",
       "      <td>849</td>\n",
       "      <td>0.03</td>\n",
       "      <td>0.40</td>\n",
       "    </tr>\n",
       "    <tr>\n",
       "      <th>8</th>\n",
       "      <td>[99.039, 103.235)</td>\n",
       "      <td>83</td>\n",
       "      <td>101.14</td>\n",
       "      <td>932</td>\n",
       "      <td>0.04</td>\n",
       "      <td>0.44</td>\n",
       "    </tr>\n",
       "    <tr>\n",
       "      <th>9</th>\n",
       "      <td>[103.235, 107.431)</td>\n",
       "      <td>123</td>\n",
       "      <td>105.33</td>\n",
       "      <td>1055</td>\n",
       "      <td>0.06</td>\n",
       "      <td>0.50</td>\n",
       "    </tr>\n",
       "  </tbody>\n",
       "</table>\n",
       "</div>"
      ],
      "text/plain": [
       "            Intervalo  Frecuencia Marca de clase  Frecuencia acumulada  \\\n",
       "0    [65.473, 69.669)          81          67.57                    81   \n",
       "1    [69.669, 73.865)          88          71.77                   169   \n",
       "2    [73.865, 78.061)         140          75.96                   309   \n",
       "3    [78.061, 82.256)         187          80.16                   496   \n",
       "4    [82.256, 86.452)         142          84.35                   638   \n",
       "5    [86.452, 90.648)         107          88.55                   745   \n",
       "6    [90.648, 94.843)          40          92.75                   785   \n",
       "7    [94.843, 99.039)          64          96.94                   849   \n",
       "8   [99.039, 103.235)          83         101.14                   932   \n",
       "9  [103.235, 107.431)         123         105.33                  1055   \n",
       "\n",
       "   Frecuencia relativa  Frecuencia relativa acumulada  \n",
       "0                 0.04                           0.04  \n",
       "1                 0.04                           0.08  \n",
       "2                 0.07                           0.15  \n",
       "3                 0.09                           0.23  \n",
       "4                 0.07                           0.30  \n",
       "5                 0.05                           0.35  \n",
       "6                 0.02                           0.37  \n",
       "7                 0.03                           0.40  \n",
       "8                 0.04                           0.44  \n",
       "9                 0.06                           0.50  "
      ]
     },
     "execution_count": 85,
     "metadata": {},
     "output_type": "execute_result"
    }
   ],
   "source": [
    "df"
   ]
  },
  {
   "cell_type": "code",
   "execution_count": 86,
   "id": "f2b3e530",
   "metadata": {},
   "outputs": [
    {
     "data": {
      "image/png": "[encoded data removed]",
      "text/plain": [
       "<Figure size 576x576 with 1 Axes>"
      ]
     },
     "metadata": {
      "needs_background": "light"
     },
     "output_type": "display_data"
    }
   ],
   "source": [
    "bins = df['Marca de clase'].tolist()\n",
    "# Frecuencias para cada bin\n",
    "frequencies = df['Frecuencia'].tolist()\n",
    "\n",
    "plt.figure(figsize=(8, 8))  # tamaño del gráfico\n",
    "plt.bar(bins, frequencies,width=A, edgecolor='black', align='center', color='skyblue')\n",
    "plt.xticks(ticks=bins, labels=bins, rotation=45, ha='right')  # Ajustar los ticks y etiquetas\n",
    "plt.title('Tabla de Frecuencia para la variable Weight')\n",
    "plt.ylabel('Frecuencia')\n",
    "plt.show()"
   ]
  },
  {
   "cell_type": "code",
   "execution_count": 84,
   "id": "e90b2dff",
   "metadata": {},
   "outputs": [
    {
     "data": {
      "text/plain": [
       "[67.571,\n",
       " 71.767,\n",
       " 75.963,\n",
       " 80.1585,\n",
       " 84.354,\n",
       " 88.55,\n",
       " 92.74549999999999,\n",
       " 96.941,\n",
       " 101.137,\n",
       " 105.333]"
      ]
     },
     "execution_count": 84,
     "metadata": {},
     "output_type": "execute_result"
    }
   ],
   "source": [
    "bins"
   ]
  },
  {
   "cell_type": "code",
   "execution_count": null,
   "id": "ac603fa6",
   "metadata": {},
   "outputs": [],
   "source": []
  }
 ],
 "metadata": {
  "kernelspec": {
   "display_name": "Python 3 (ipykernel)",
   "language": "python",
   "name": "python3"
  },
  "language_info": {
   "codemirror_mode": {
    "name": "ipython",
    "version": 3
   },
   "file_extension": ".py",
   "mimetype": "text/x-python",
   "name": "python",
   "nbconvert_exporter": "python",
   "pygments_lexer": "ipython3",
   "version": "3.9.12"
  }
 },
 "nbformat": 4,
 "nbformat_minor": 5
}
