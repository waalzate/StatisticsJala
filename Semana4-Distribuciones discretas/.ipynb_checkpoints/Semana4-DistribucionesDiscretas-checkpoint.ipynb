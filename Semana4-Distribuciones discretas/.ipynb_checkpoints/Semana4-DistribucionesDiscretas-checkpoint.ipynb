{
 "cells": [
  {
   "cell_type": "markdown",
   "id": "a4881ac4",
   "metadata": {},
   "source": [
    "<img src=\"jalalogo.png\">\n",
    "\n",
    "\n",
    "\n",
    "\n",
    "# Semana 4: Distribuciones discretas\n",
    "\n",
    "\n",
    "## ¿Qué es una variable aleatoria? \n",
    "\n",
    "Dentro de un espacio muestral S asociado a algún experimento, una variable aleatoria se define como cualquier regla que asigna un número a cada resultado en S. Ejemplos:\n",
    "\n",
    "\n",
    "- Resultado del lanzamiento de un dado.\n",
    "- Altura de un estudiante seleccionado al azar de un colegio.\n",
    "- Tiempo de navegación de un usuario en una página web.\n",
    " \n",
    "\n",
    "Usamos letras mayúsculas como $X$ o $Y$ para denotar variables aleatorias.\n",
    "\n",
    "Las variables aleatorias se dividen en dos grupos:\n",
    "las variables aleatorias discretas y las variables aleatorias continuas.\n"
   ]
  },
  {
   "cell_type": "markdown",
   "id": "47ba547c",
   "metadata": {},
   "source": [
    "## Variables aleatorias discretas:\n",
    "\n",
    "Una variable aleatoria discreta correponde a aquella cuyo valor puede variar dentro de un conjunto finito y contable de valores. No púede tomar valores intermedios.\n",
    "\n",
    "Por ejemplo, en el lanzamiento de un dado, podemos definir una variable aleatoria $X$ que indique el resultado aleatorio del lazamiento de este dado. La variable $X$ puede obtener cualquiera de los valores $[1,2,3,4,5,6]$.  \n",
    "\n",
    "### Distribución de Probabilidad \n",
    "\n",
    "La **distribución de probabilidad** de una variable aleatoria discreta es una lista de probabilidades asociadas a cada uno de los valores discretos de dicha variable. A la distribución de probabilidades también se le conoce con el nombre de **función de probabilidad** o **función de masa de probabilidad**. \n",
    "\n",
    "Matematicamente, supongamos que una variable aleatoria discreta $X$ pueda tener $k$ valores diferentes. Entonces, la probabilidad de que $X=x_i$ se define como $P(X=x_i)=p_i$. Las probabilidades $p_i$ deben satisfacer las siguientes condiciones:\n",
    "\n",
    "1. Cada probabilidad es un número entre 0 y 1: \n",
    "\n",
    "  $0<p_i<1$, $\\forall$ $i=1, 2, \\cdots,k$.\n",
    "\n",
    "2. La suma de todas las probabilidades es 1: \n",
    "\n",
    "  $\\sum_{i=0}^k p_i=1\\iff p_1 + p_2 + \\cdots + p_k=1$.\n",
    "\n",
    "Algunos ejemplos de distribuciones de probabilidades discretas son:\n",
    "\n",
    "- La distribución de Bernoulli. \n",
    "- La distribución Binomial.\n",
    "- La distribución de Poisson.\n",
    "\n",
    "\n",
    "\n"
   ]
  },
  {
   "cell_type": "code",
   "execution_count": 1,
   "id": "0773daee",
   "metadata": {},
   "outputs": [],
   "source": [
    "# Se importan las librerias necesarias\n",
    "import matplotlib.pyplot as plt"
   ]
  },
  {
   "cell_type": "markdown",
   "id": "e5a25026",
   "metadata": {},
   "source": [
    "### Ejemplo 1: \n",
    "\n",
    "En una clase de estadística se dan las calificaciones según la siguiente distribución:\n",
    "\n",
    "- A: 0.15\n",
    "- B: 0.35\n",
    "- C: 0.30\n",
    "- D: 0.16\n",
    "- F: 0.04\n",
    "\n",
    "a) Define la variable aleatoria X como el número de puntos de calificación dados por cada calificación (es decir, a la calificación 'A' se le asigna 4 puntos, a la 'B' 3 puntos, a la 'C' 2 puntos, a la 'D' 1 punto y a la 'F' 0 puntos). Escriba la distribución de probabilidad de X.\n",
    "\n",
    "b) ¿Es realmente esta función una distribución de probabilidad?\n",
    "\n",
    "c) ¿Cuál es la probabilidad de que X sea menor que 3?\n",
    "\n",
    "d) ¿Cuál es la probabilidad de que X sea menor o igual a 3?\n",
    "\n",
    "e) Dibuja el histograma de probabilidad para esta distribución.\n",
    "\n",
    "### Solución:\n",
    "\n",
    "a) La distribución de probabilidad de $ X $ es\n",
    "\n",
    "| X   | P(X) |\n",
    "|-----|------|\n",
    "| 4   | 0.15 |\n",
    "| 3   | 0.35 |\n",
    "| 2   | 0.30 |\n",
    "| 1   | 0.16 |\n",
    "| 0   | 0.04 |\n",
    "\n",
    "\n",
    "b) Es una distribución de probabilidad dado que cumple que cada probabilidad es un número entre 0 y 1 y la suma de las probabilidades es 1.\n",
    "\n",
    "c) Debemos hallar $P(X<3)$, lo cual es equivalente a \n",
    "\n",
    "$$ P(X<3) = P(X=0) + P(X=1)+ P(X=2)= 0.04 + 0.16 + 0.3 =0.5$$ "
   ]
  },
  {
   "cell_type": "code",
   "execution_count": 2,
   "id": "6f11429a",
   "metadata": {},
   "outputs": [
    {
     "name": "stdout",
     "output_type": "stream",
     "text": [
      "0.5\n"
     ]
    }
   ],
   "source": [
    "prob1 = 0.04 + 0.16 + 0.3 \n",
    "print(prob1)"
   ]
  },
  {
   "cell_type": "markdown",
   "id": "27250d7d",
   "metadata": {},
   "source": [
    "d) Debemos hallar $P(X\\leq 3)$, lo cual es equivalente a \n",
    "\n",
    "$$ P(X\\leq 3) = P(X=0) + P(X=1)+ P(X=2) + P(X=3)= 0.04 + 0.16 + 0.3 +0.35=0.85$$ "
   ]
  },
  {
   "cell_type": "code",
   "execution_count": 3,
   "id": "8e688448",
   "metadata": {
    "scrolled": true
   },
   "outputs": [
    {
     "name": "stdout",
     "output_type": "stream",
     "text": [
      "0.85\n"
     ]
    }
   ],
   "source": [
    "prob2 = 0.04 + 0.16 + 0.3 +0.35\n",
    "print(prob2)"
   ]
  },
  {
   "cell_type": "code",
   "execution_count": 4,
   "id": "e652190f",
   "metadata": {},
   "outputs": [
    {
     "data": {
      "image/png": "[encoded data removed]",
      "text/plain": [
       "<Figure size 640x480 with 1 Axes>"
      ]
     },
     "metadata": {},
     "output_type": "display_data"
    }
   ],
   "source": [
    "#Histograma.\n",
    "\n",
    "X = [4, 3, 2, 1, 0]\n",
    "P_X = [0.15, 0.35, 0.30, 0.16, 0.04]\n",
    "\n",
    "# Creamos el histograma\n",
    "plt.bar(X, P_X, width=1.0, color='green', edgecolor='black')\n",
    "\n",
    "# Añadir títulos y etiquetas\n",
    "plt.title('Histograma de la Distribución de Probabilidad')\n",
    "plt.xlabel(' X')\n",
    "plt.ylabel('P(X)')\n",
    "\n",
    "# Configurar los límites y escalas del eje\n",
    "plt.xticks(X)  # Asegura que todos los valores de X se muestren\n",
    "plt.yticks([0, 0.1, 0.2, 0.3, 0.4])  # Puedes ajustar esto según tus preferencias\n",
    "\n",
    "# Mostrar el gráfico\n",
    "plt.show()\n",
    "\n"
   ]
  },
  {
   "cell_type": "markdown",
   "id": "ff0ba918",
   "metadata": {},
   "source": [
    "### Ejemplo:\n",
    "Una  importadora de tecnología para latinoamerica adquirió cinco lotes de componentes. La cantidad de componentes defectuosos en cada lote se presenta en la tabla siguiente:\n",
    "\n",
    "\n",
    "| Lote           | 1 | 2 | 3 | 4 | 5 |\n",
    "|----------------|---|---|---|---|---|\n",
    "| # defectuosos  | 0 | 2 | 1 | 2 | 1 |\n",
    "\n",
    " \n",
    "Sea $X$ la variable aleatoria definida como el número de componentes defectuosos en un lote seleccionado al azar. \n",
    "\n",
    "Halle la distribución de probabilidad de $X$.\n",
    " \n"
   ]
  },
  {
   "cell_type": "markdown",
   "id": "f7d08c00",
   "metadata": {},
   "source": [
    "### Solución:\n",
    "\n",
    "Existen tres valores posibles para $X$  0, 1 y 2. Al analizar la tabla, se notan que hay cinco eventos equiprobables, uno de ellos resulta en $X=0$, dos en $X=1$ y los restantes dos en $X=2$. \n",
    "\n",
    "Por lo tanto, las probabilidades son las siguientes:\n",
    "\n",
    " \n",
    "- La probabilidad de que $X=0$ es $P(X=0)=P(\\text{el lote 1 es seleccionado}) = 1/5 = 0.2$\n",
    "- La probabilidad de que $X=1$ es $P(X=1)=P(\\text{el lote 3 y 5 es seleccionado}) = 2/5 = 0.4$\n",
    "- La probabilidad de que $X=2$ es $P(X=2)=P(\\text{el lote 2 y 4 es seleccionado}) = 2/5 = 0.4$\n",
    "\n",
    " \n",
    "**Tabla de Distribución de Probabilidades de $X$:**\n",
    "\n",
    "| Valor de $X$ | Probabilidad |\n",
    "|--------------|--------------|\n",
    "| 0            | 0.2          |\n",
    "| 1            | 0.4          |\n",
    "| 2            | 0.4          |\n",
    "\n",
    "\n"
   ]
  },
  {
   "cell_type": "markdown",
   "id": "cdad877c",
   "metadata": {},
   "source": [
    "## Valor Esperado\n",
    "\n",
    "\n",
    "\n",
    "Sea X una variable aleatoria con distribución de probabilidad p(x). La media o valor esperado de X es\n",
    "\n",
    "\n",
    "$ \\mu = E(X)=\\sum_{x} xp(x)$\n",
    "\n",
    "El valor esperado se representa con $\\mu_x$ o simplemente $\\mu$, cuando está claro a qué variable se refiere. Los estadísticos frecuentemente denominan a esta media como la esperanza matemática o el valor esperado de la variable aleatoria $X$, y la simbolizan como $E(X)$\n"
   ]
  },
  {
   "cell_type": "markdown",
   "id": "16a7b501",
   "metadata": {},
   "source": [
    "### Ejemplo: \n",
    "\n",
    "Consideremos de nuevo la situación del ejemplo 1. Calculemos el valor esperado de X. \n",
    "\n",
    "Como la distribución de probabilidad de $ X $ es\n",
    "\n",
    "| X   | P(X) |\n",
    "|-----|------|\n",
    "| 4   | 0.15 |\n",
    "| 3   | 0.35 |\n",
    "| 2   | 0.30 |\n",
    "| 1   | 0.16 |\n",
    "| 0   | 0.04 |\n",
    "\n",
    "entonces su valor esperado es \n",
    " \n",
    "   \n",
    "   $E[X] = \\sum_{i} x_i \\cdot P(x_i)= 0.60 + 1.05 + 0.60 + 0.16 + 0.00 = 2.41$"
   ]
  },
  {
   "cell_type": "code",
   "execution_count": 5,
   "id": "6fbe2faf",
   "metadata": {},
   "outputs": [
    {
     "name": "stdout",
     "output_type": "stream",
     "text": [
      "2.41\n"
     ]
    }
   ],
   "source": [
    " #Creamos una lista con los valores de X y sus respectivas probabilidades.\n",
    "valores_X = [4, 3, 2, 1, 0]\n",
    "\n",
    "probabilidades_X = [0.15, 0.35, 0.30, 0.16, 0.04]\n",
    "\n",
    "# Calculamos el valor esperado\n",
    "\n",
    "valor_esperado_X = sum(x * p for x, p in zip(valores_X, probabilidades_X))\n",
    "print(valor_esperado_X)\n"
   ]
  },
  {
   "cell_type": "markdown",
   "id": "c9f99375",
   "metadata": {},
   "source": [
    "### Distribución de Bernoulli\n",
    "\n",
    "La distribución de Bernoulli es una distribución en la cual hay solo dos posibles resultados para una variable aleatoria discreta: éxito o fracaso. Se denota comúnmente como Ber(p), donde p es la probabilidad de éxito en un único ensayo. \n",
    "\n",
    "\n",
    "Las características clave de la distribución de Bernoulli son:\n",
    "\n",
    "**1. Dos Resultados Posibles:** La variable aleatoria puede tomar solo dos valores posibles: 1 (éxito) o 0 (fracaso).\n",
    "   \n",
    "**2. Parámetro de Probabilidad:** El parámetro p representa la probabilidad de éxito en un solo ensayo.\n",
    "\n",
    "**3. Función de Masa de Probabilidad (fmp):** La función de masa de probabilidad para la distribución de Bernoulli se expresa como:\n",
    " \n",
    " $ P(X = k) = \n",
    "\\begin{cases} \n",
    "p, & \\text{si } k = 1 \\\\\n",
    "1-p, & \\text{si } k = 0 \n",
    "\\end{cases}\n",
    "$\n",
    "\n",
    "\n",
    "Donde X es la variable aleatoria y k es el valor que puede tomar (0 o 1).\n"
   ]
  },
  {
   "cell_type": "code",
   "execution_count": null,
   "id": "d42e6035",
   "metadata": {},
   "outputs": [],
   "source": []
  }
 ],
 "metadata": {
  "kernelspec": {
   "display_name": "Python 3 (ipykernel)",
   "language": "python",
   "name": "python3"
  },
  "language_info": {
   "codemirror_mode": {
    "name": "ipython",
    "version": 3
   },
   "file_extension": ".py",
   "mimetype": "text/x-python",
   "name": "python",
   "nbconvert_exporter": "python",
   "pygments_lexer": "ipython3",
   "version": "3.11.5"
  }
 },
 "nbformat": 4,
 "nbformat_minor": 5
}
