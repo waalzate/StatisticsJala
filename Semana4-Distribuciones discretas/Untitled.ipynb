{
 "cells": [
  {
   "cell_type": "markdown",
   "id": "3f259954",
   "metadata": {},
   "source": [
    "### Ejemplo: (Binomial) \n",
    "\n",
    "El  examen  parcial de estadística es un examen de  selección  múltiple que contiene  7  preguntas y  \n",
    "se  dan  5  opciones  a  cada  pregunta,  solo una de ellas es correcta. \n",
    "Si un estudiante responde al azar, hallar la probabilidad que:\n",
    "\n",
    "- a) 7 respuestas estén correctas\n",
    "- b) Al menos 3 respuestas estén correctas\n",
    "- c) Entre 5 y 7 estén correctas.\n",
    "\n"
   ]
  },
  {
   "cell_type": "code",
   "execution_count": 1,
   "id": "bf6302ab",
   "metadata": {},
   "outputs": [],
   "source": [
    "#importar librerias\n",
    "\n",
    "from scipy.stats import binom"
   ]
  },
  {
   "cell_type": "code",
   "execution_count": 7,
   "id": "fc593599",
   "metadata": {},
   "outputs": [
    {
     "data": {
      "text/plain": [
       "1.2800000000000005e-05"
      ]
     },
     "execution_count": 7,
     "metadata": {},
     "output_type": "execute_result"
    }
   ],
   "source": [
    "p=0.2\n",
    "n=7\n",
    "k=7\n",
    "prob_X_igual_7 =binom.pmf(n,k,p)\n",
    "prob_X_igual_7"
   ]
  },
  {
   "cell_type": "code",
   "execution_count": 6,
   "id": "6d930a4d",
   "metadata": {},
   "outputs": [
    {
     "name": "stdout",
     "output_type": "stream",
     "text": [
      "P(X=7) = 0.000013\n"
     ]
    }
   ],
   "source": [
    "print(f\"P(X=7) = {prob_X_igual_7:.6f}\")"
   ]
  },
  {
   "cell_type": "code",
   "execution_count": 10,
   "id": "4ff6b45c",
   "metadata": {},
   "outputs": [],
   "source": [
    "# Al menos tres respuestas correctas:\n",
    "#P(X>=3)=1-P(X<=2)\n",
    "prob_X_mayor_igual_3 = 1-binom.cdf(2,7,0.2)"
   ]
  },
  {
   "cell_type": "code",
   "execution_count": 11,
   "id": "cf0ef413",
   "metadata": {},
   "outputs": [
    {
     "name": "stdout",
     "output_type": "stream",
     "text": [
      "0.14803200000000005\n"
     ]
    }
   ],
   "source": [
    "print(prob_X_mayor_igual_3)"
   ]
  },
  {
   "cell_type": "code",
   "execution_count": 12,
   "id": "3b554cae",
   "metadata": {},
   "outputs": [],
   "source": [
    "#problema de arrivos\n",
    "from scipy.stats import poisson\n",
    "\n",
    "prob_X_igual_4 = poisson.pmf(4,5)\n"
   ]
  },
  {
   "cell_type": "code",
   "execution_count": 13,
   "id": "0d552581",
   "metadata": {},
   "outputs": [
    {
     "name": "stdout",
     "output_type": "stream",
     "text": [
      "0.17546736976785063\n"
     ]
    }
   ],
   "source": [
    "print(prob_X_igual_4)"
   ]
  },
  {
   "cell_type": "code",
   "execution_count": 14,
   "id": "324cd957",
   "metadata": {},
   "outputs": [
    {
     "name": "stdout",
     "output_type": "stream",
     "text": [
      "0.7349740847026385\n"
     ]
    }
   ],
   "source": [
    "prob_X_al_menos_4 = 1- poisson.cdf(3,5)\n",
    "print(prob_X_al_menos_4)"
   ]
  },
  {
   "cell_type": "code",
   "execution_count": null,
   "id": "4fb8de5c",
   "metadata": {},
   "outputs": [],
   "source": []
  }
 ],
 "metadata": {
  "kernelspec": {
   "display_name": "Python 3 (ipykernel)",
   "language": "python",
   "name": "python3"
  },
  "language_info": {
   "codemirror_mode": {
    "name": "ipython",
    "version": 3
   },
   "file_extension": ".py",
   "mimetype": "text/x-python",
   "name": "python",
   "nbconvert_exporter": "python",
   "pygments_lexer": "ipython3",
   "version": "3.9.12"
  }
 },
 "nbformat": 4,
 "nbformat_minor": 5
}
