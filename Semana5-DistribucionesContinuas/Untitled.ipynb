{
 "cells": [
  {
   "cell_type": "markdown",
   "id": "3a52b334",
   "metadata": {},
   "source": [
    "# Distribución Normal: Ejemplo 1\n",
    "\n",
    "En la fabricación de cereales, se contempla el peso de las cajas como una variable aleatoria con distribución normal. Una marca reconocida presenta cajas cuyo peso promedio es de 1000 gramos y una desviación estándar de 20 gramos. Se selecciona una caja al azar con el propósito de realizar un análisis detallado.\n",
    "\n",
    "Determinar la probabilidad de que pese menos de 1025 gramos.\n",
    "\n",
    "Hallar la probabilidad de que pese 989 gramos o más."
   ]
  },
  {
   "cell_type": "code",
   "execution_count": 3,
   "id": "44b13134",
   "metadata": {},
   "outputs": [
    {
     "name": "stdout",
     "output_type": "stream",
     "text": [
      "La probabilidad de que pese  menos de 1025 onzas  es: 89.4%\n"
     ]
    }
   ],
   "source": [
    "#libreria para obtener la función de distribución normal\n",
    "from scipy.stats import norm\n",
    "\n",
    "media =1000\n",
    "desviacion_estandar =20\n",
    "x= 1025\n",
    "prob_menor_1025 = norm.cdf(x,loc =media,scale = desviacion_estandar)\n",
    "print(f\"La probabilidad de que pese  menos de {x} onzas  es: {prob_menor_1025:.1%}\")\n"
   ]
  },
  {
   "cell_type": "code",
   "execution_count": 4,
   "id": "26098104",
   "metadata": {},
   "outputs": [
    {
     "name": "stdout",
     "output_type": "stream",
     "text": [
      "0.8943502263331446\n"
     ]
    }
   ],
   "source": [
    "#Notemos que \n",
    "\n",
    "print(norm.cdf(1.25,0,1))"
   ]
  },
  {
   "cell_type": "code",
   "execution_count": 6,
   "id": "ae5c2cdb",
   "metadata": {},
   "outputs": [
    {
     "name": "stdout",
     "output_type": "stream",
     "text": [
      "La probabilidad de que pese  menos de 989 onzas  es: 29.1%\n"
     ]
    }
   ],
   "source": [
    "#libreria para obtener la función de distribución normal\n",
    "from scipy.stats import norm\n",
    "\n",
    "media =1000\n",
    "desviacion_estandar =20\n",
    "x= 989\n",
    "prob_menor_989 = norm.cdf(x,loc =media,scale = desviacion_estandar)\n",
    "print(f\"La probabilidad de que pese  menos de {x} onzas  es: {prob_menor_989:.1%}\")\n"
   ]
  },
  {
   "cell_type": "code",
   "execution_count": 8,
   "id": "1b2d55d8",
   "metadata": {},
   "outputs": [
    {
     "name": "stdout",
     "output_type": "stream",
     "text": [
      "La probabilidad de que pese  mas de 989 onzas  es: 70.9%\n"
     ]
    }
   ],
   "source": [
    "prob_mayor_989 = 1- prob_menor_989\n",
    "print(f\"La probabilidad de que pese  mas de {x} onzas  es: {prob_mayor_989:.1%}\")\n"
   ]
  },
  {
   "cell_type": "code",
   "execution_count": null,
   "id": "2b963eae",
   "metadata": {},
   "outputs": [],
   "source": []
  }
 ],
 "metadata": {
  "kernelspec": {
   "display_name": "Python 3 (ipykernel)",
   "language": "python",
   "name": "python3"
  },
  "language_info": {
   "codemirror_mode": {
    "name": "ipython",
    "version": 3
   },
   "file_extension": ".py",
   "mimetype": "text/x-python",
   "name": "python",
   "nbconvert_exporter": "python",
   "pygments_lexer": "ipython3",
   "version": "3.9.12"
  }
 },
 "nbformat": 4,
 "nbformat_minor": 5
}
